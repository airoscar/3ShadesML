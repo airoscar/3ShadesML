{
 "cells": [
  {
   "cell_type": "code",
   "execution_count": 1,
   "metadata": {},
   "outputs": [],
   "source": [
    "import cv2\n",
    "import numpy as np\n",
    "import pandas as pd\n",
    "import pickle"
   ]
  },
  {
   "cell_type": "markdown",
   "metadata": {},
   "source": [
    "## Generating Flattened Image Data"
   ]
  },
  {
   "cell_type": "code",
   "execution_count": 2,
   "metadata": {},
   "outputs": [],
   "source": [
    "inStream = open('df_1pct.pickle', 'rb')\n",
    "metadata, _ = pickle.load(inStream)\n",
    "inStream.close()"
   ]
  },
  {
   "cell_type": "code",
   "execution_count": 3,
   "metadata": {},
   "outputs": [],
   "source": [
    "metadata[\"path\"]=\"C:/Users/princ/Desktop/imdb_crop/\"+ metadata[\"path\"].astype(str)"
   ]
  },
  {
   "cell_type": "code",
   "execution_count": 4,
   "metadata": {},
   "outputs": [],
   "source": [
    "metadata=metadata.sample(frac=1, random_state=5)"
   ]
  },
  {
   "cell_type": "code",
   "execution_count": 5,
   "metadata": {},
   "outputs": [],
   "source": [
    "AllImgsRGBData=np.full((1, (100*100*3)), 0)\n",
    "\n",
    "for filepath in metadata[\"path\"]:\n",
    "    img = cv2.imread(filepath)\n",
    "    img=cv2.resize(img, (100,100))\n",
    "    flattenedImg=img.flatten()\n",
    "    AllImgsRGBData=np.vstack((AllImgsRGBData, flattenedImg))"
   ]
  },
  {
   "cell_type": "code",
   "execution_count": 6,
   "metadata": {},
   "outputs": [],
   "source": [
    "AllImgsRGBData=np.delete(AllImgsRGBData, 0, 0)\n",
    "\n",
    "data=pd.DataFrame(AllImgsRGBData)\n",
    "metadata.reset_index(drop=True, inplace=True)"
   ]
  },
  {
   "cell_type": "code",
   "execution_count": 7,
   "metadata": {},
   "outputs": [],
   "source": [
    "outStream = open('flattened_image_RGB_data_metadata.pickle', 'wb')\n",
    "pickle.dump([data, metadata], outStream)\n",
    "outStream.close()"
   ]
  },
  {
   "cell_type": "markdown",
   "metadata": {},
   "source": [
    "Confirming"
   ]
  },
  {
   "cell_type": "code",
   "execution_count": 26,
   "metadata": {},
   "outputs": [],
   "source": [
    "# img = cv2.imread(metadata[\"path\"][22])\n",
    "# display(img.flatten()[0:20])"
   ]
  },
  {
   "cell_type": "code",
   "execution_count": 27,
   "metadata": {},
   "outputs": [],
   "source": [
    "# display(data.iloc[22].head(20))"
   ]
  }
 ],
 "metadata": {
  "kernelspec": {
   "display_name": "Python 3",
   "language": "python",
   "name": "python3"
  },
  "language_info": {
   "codemirror_mode": {
    "name": "ipython",
    "version": 3
   },
   "file_extension": ".py",
   "mimetype": "text/x-python",
   "name": "python",
   "nbconvert_exporter": "python",
   "pygments_lexer": "ipython3",
   "version": "3.6.5"
  }
 },
 "nbformat": 4,
 "nbformat_minor": 2
}
