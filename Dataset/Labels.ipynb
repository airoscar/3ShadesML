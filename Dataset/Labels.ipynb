{
 "cells": [
  {
   "cell_type": "code",
   "execution_count": 1,
   "metadata": {},
   "outputs": [],
   "source": [
    "import scipy.io as sio"
   ]
  },
  {
   "cell_type": "code",
   "execution_count": 2,
   "metadata": {},
   "outputs": [],
   "source": [
    "matdata=sio.loadmat('./IMDB/imdb.mat')\n",
    "items = matdata['imdb'][0][0]"
   ]
  },
  {
   "cell_type": "code",
   "execution_count": 3,
   "metadata": {
    "scrolled": false
   },
   "outputs": [],
   "source": [
    "dob = items[0][0]\n",
    "photo_taken = items[1][0]\n",
    "full_path = items[2][0]\n",
    "gender = items[3][0]\n",
    "name = items[4][0]\n",
    "face_location = items[5][0]\n",
    "face_score = items[6][0]\n",
    "second_face_score = items[7][0]\n",
    "celeb_names = items[8][0]\n",
    "celeb_id = items[9][0]"
   ]
  },
  {
   "cell_type": "code",
   "execution_count": 4,
   "metadata": {},
   "outputs": [],
   "source": [
    "import pandas as pd\n",
    "from datetime import datetime, timedelta"
   ]
  },
  {
   "cell_type": "code",
   "execution_count": 5,
   "metadata": {},
   "outputs": [],
   "source": [
    "def flatten(a):\n",
    "    return [x[0] for x in a]\n",
    "\n",
    "def dateConvert(matlab_datenum):\n",
    "    if matlab_datenum > 366:\n",
    "        return datetime.fromordinal(int(matlab_datenum)) + timedelta(days=matlab_datenum%1) - timedelta(days = 366)\n",
    "    else:\n",
    "        return np.nan"
   ]
  },
  {
   "cell_type": "code",
   "execution_count": 6,
   "metadata": {},
   "outputs": [],
   "source": [
    "df = pd.DataFrame({'path': flatten(full_path),\n",
    "                   'id': celeb_id,\n",
    "                   'name': flatten(name), \n",
    "                   'dob': dob,\n",
    "                   'gender': gender,\n",
    "                   'score1': face_score,\n",
    "                   'score2': second_face_score,\n",
    "                   'pic_date': photo_taken,\n",
    "                   'region': flatten(face_location),\n",
    "                   \n",
    "                   })"
   ]
  },
  {
   "cell_type": "code",
   "execution_count": 7,
   "metadata": {},
   "outputs": [],
   "source": [
    "df.dob = df.dob.astype(int).apply(dateConvert)\n",
    "df.pic_date = pd.to_datetime(df.pic_date, format='%Y')"
   ]
  },
  {
   "cell_type": "code",
   "execution_count": 8,
   "metadata": {},
   "outputs": [],
   "source": [
    "df['age'] = (df.pic_date - df.dob)/np.timedelta64(1,'Y')"
   ]
  },
  {
   "cell_type": "code",
   "execution_count": 9,
   "metadata": {
    "scrolled": true
   },
   "outputs": [
    {
     "data": {
      "text/plain": [
       "path                object\n",
       "id                  uint16\n",
       "name                object\n",
       "dob         datetime64[ns]\n",
       "gender             float64\n",
       "score1             float64\n",
       "score2             float64\n",
       "pic_date    datetime64[ns]\n",
       "region              object\n",
       "age                float64\n",
       "dtype: object"
      ]
     },
     "execution_count": 9,
     "metadata": {},
     "output_type": "execute_result"
    }
   ],
   "source": [
    "df.dtypes"
   ]
  },
  {
   "cell_type": "code",
   "execution_count": 10,
   "metadata": {},
   "outputs": [],
   "source": [
    "import pickle"
   ]
  },
  {
   "cell_type": "code",
   "execution_count": 26,
   "metadata": {},
   "outputs": [
    {
     "data": {
      "text/plain": [
       "(460723, 10)"
      ]
     },
     "execution_count": 26,
     "metadata": {},
     "output_type": "execute_result"
    }
   ],
   "source": [
    "df.shape"
   ]
  },
  {
   "cell_type": "markdown",
   "metadata": {},
   "source": [
    "#### Split dataframe"
   ]
  },
  {
   "cell_type": "code",
   "execution_count": 28,
   "metadata": {},
   "outputs": [],
   "source": [
    "def train_test_split(df, sample_frac, train_frac, rand_state):\n",
    "    \"\"\"downsize a given df. split into train and test sets.\"\"\"\n",
    "    small_df = df.sample(frac=sample_frac, random_state=rand_state)\n",
    "    df_train = small_df.sample(frac=train_frac, random_state=rand_state)\n",
    "    df_test = small_df.loc[~small_df.index.isin(df_train.index), :]\n",
    "    return (df_train, df_test)"
   ]
  },
  {
   "cell_type": "markdown",
   "metadata": {},
   "source": [
    "#### Using only 1 percent of the total data, split into train-test sets (95-5%)"
   ]
  },
  {
   "cell_type": "code",
   "execution_count": 29,
   "metadata": {},
   "outputs": [],
   "source": [
    "(df_1pct_train, df_1pct_test) = train_test_split(df, 0.01, 0.95, 1)"
   ]
  },
  {
   "cell_type": "code",
   "execution_count": 30,
   "metadata": {},
   "outputs": [],
   "source": [
    "pickle_out = open('df_1pct.pickle', 'wb')\n",
    "pickle.dump((df_1pct_train, df_1pct_test), pickle_out)\n",
    "pickle_out.close()"
   ]
  },
  {
   "cell_type": "code",
   "execution_count": 31,
   "metadata": {},
   "outputs": [],
   "source": [
    "# To load from file:\n",
    "pickle_in = open('df_1pct.pickle', 'rb')\n",
    "my_df_train, my_df_test = pickle.load(pickle_in)"
   ]
  },
  {
   "cell_type": "code",
   "execution_count": 32,
   "metadata": {},
   "outputs": [
    {
     "name": "stdout",
     "output_type": "stream",
     "text": [
      "(4377, 10) (230, 10)\n"
     ]
    }
   ],
   "source": [
    "print(my_df_train.shape, my_df_test.shape)"
   ]
  },
  {
   "cell_type": "markdown",
   "metadata": {},
   "source": [
    "#### Using 5 percent of the total data, split into train-test sets (95-5%)"
   ]
  },
  {
   "cell_type": "code",
   "execution_count": 33,
   "metadata": {},
   "outputs": [],
   "source": [
    "(df_5pct_train, df_5pct_test) = train_test_split(df, 0.05, 0.95, 1)"
   ]
  },
  {
   "cell_type": "code",
   "execution_count": 34,
   "metadata": {},
   "outputs": [],
   "source": [
    "pickle_out = open('df_5pct.pickle', 'wb')\n",
    "pickle.dump((df_5pct_train, df_5pct_test), pickle_out)\n",
    "pickle_out.close()"
   ]
  },
  {
   "cell_type": "code",
   "execution_count": 35,
   "metadata": {},
   "outputs": [],
   "source": [
    "# To load from file:\n",
    "pickle_in = open('df_5pct.pickle', 'rb')\n",
    "my_df_train, my_df_test = pickle.load(pickle_in)"
   ]
  },
  {
   "cell_type": "code",
   "execution_count": 36,
   "metadata": {},
   "outputs": [
    {
     "name": "stdout",
     "output_type": "stream",
     "text": [
      "(21884, 10) (1152, 10)\n"
     ]
    }
   ],
   "source": [
    "print(my_df_train.shape, my_df_test.shape)"
   ]
  },
  {
   "cell_type": "markdown",
   "metadata": {},
   "source": [
    "#### Using 10 percent of the total data, split into train-test sets (95-5%)"
   ]
  },
  {
   "cell_type": "code",
   "execution_count": 37,
   "metadata": {},
   "outputs": [],
   "source": [
    "(df_10pct_train, df_10pct_test) = train_test_split(df, 0.1, 0.95, 1)"
   ]
  },
  {
   "cell_type": "code",
   "execution_count": 38,
   "metadata": {},
   "outputs": [],
   "source": [
    "pickle_out = open('df_10pct.pickle', 'wb')\n",
    "pickle.dump((df_10pct_train, df_10pct_test), pickle_out)\n",
    "pickle_out.close()"
   ]
  },
  {
   "cell_type": "code",
   "execution_count": 39,
   "metadata": {},
   "outputs": [],
   "source": [
    "# To load from file:\n",
    "pickle_in = open('df_10pct.pickle', 'rb')\n",
    "my_df_train, my_df_test = pickle.load(pickle_in)"
   ]
  },
  {
   "cell_type": "code",
   "execution_count": 40,
   "metadata": {},
   "outputs": [
    {
     "name": "stdout",
     "output_type": "stream",
     "text": [
      "(43768, 10) (2304, 10)\n"
     ]
    }
   ],
   "source": [
    "print(my_df_train.shape, my_df_test.shape)"
   ]
  },
  {
   "cell_type": "markdown",
   "metadata": {},
   "source": [
    "#### Using 20 percent of the total data, split into train-test sets (95-5%)"
   ]
  },
  {
   "cell_type": "code",
   "execution_count": 45,
   "metadata": {},
   "outputs": [],
   "source": [
    "(df_20pct_train, df_20pct_test) = train_test_split(df, 0.2, 0.95, 1)"
   ]
  },
  {
   "cell_type": "code",
   "execution_count": 46,
   "metadata": {},
   "outputs": [],
   "source": [
    "pickle_out = open('df_20pct.pickle', 'wb')\n",
    "pickle.dump((df_20pct_train, df_20pct_test), pickle_out)\n",
    "pickle_out.close()"
   ]
  },
  {
   "cell_type": "code",
   "execution_count": 47,
   "metadata": {},
   "outputs": [],
   "source": [
    "# To load from file:\n",
    "pickle_in = open('df_20pct.pickle', 'rb')\n",
    "my_df_train, my_df_test = pickle.load(pickle_in)"
   ]
  },
  {
   "cell_type": "code",
   "execution_count": 48,
   "metadata": {},
   "outputs": [
    {
     "name": "stdout",
     "output_type": "stream",
     "text": [
      "(87538, 10) (4607, 10)\n"
     ]
    }
   ],
   "source": [
    "print(my_df_train.shape, my_df_test.shape)"
   ]
  },
  {
   "cell_type": "markdown",
   "metadata": {},
   "source": [
    "#### Using all data, split into train-test sets (95-5%)"
   ]
  },
  {
   "cell_type": "code",
   "execution_count": 49,
   "metadata": {},
   "outputs": [],
   "source": [
    "(df_all_train, df_all_test) = train_test_split(df, 1, 0.95, 1)"
   ]
  },
  {
   "cell_type": "code",
   "execution_count": 50,
   "metadata": {},
   "outputs": [],
   "source": [
    "pickle_out = open('df_all.pickle', 'wb')\n",
    "pickle.dump((df_all_train, df_all_test), pickle_out)\n",
    "pickle_out.close()"
   ]
  },
  {
   "cell_type": "code",
   "execution_count": 51,
   "metadata": {},
   "outputs": [],
   "source": [
    "# To load from file:\n",
    "pickle_in = open('df_all.pickle', 'rb')\n",
    "my_df_train, my_df_test = pickle.load(pickle_in)"
   ]
  },
  {
   "cell_type": "code",
   "execution_count": 52,
   "metadata": {},
   "outputs": [
    {
     "name": "stdout",
     "output_type": "stream",
     "text": [
      "(437687, 10) (23036, 10)\n"
     ]
    }
   ],
   "source": [
    "print(my_df_train.shape, my_df_test.shape)"
   ]
  },
  {
   "cell_type": "code",
   "execution_count": null,
   "metadata": {},
   "outputs": [],
   "source": []
  }
 ],
 "metadata": {
  "kernelspec": {
   "display_name": "Python 3",
   "language": "python",
   "name": "python3"
  },
  "language_info": {
   "codemirror_mode": {
    "name": "ipython",
    "version": 3
   },
   "file_extension": ".py",
   "mimetype": "text/x-python",
   "name": "python",
   "nbconvert_exporter": "python",
   "pygments_lexer": "ipython3",
   "version": "3.6.5"
  },
  "varInspector": {
   "cols": {
    "lenName": 16,
    "lenType": 16,
    "lenVar": 40
   },
   "kernels_config": {
    "python": {
     "delete_cmd_postfix": "",
     "delete_cmd_prefix": "del ",
     "library": "var_list.py",
     "varRefreshCmd": "print(var_dic_list())"
    },
    "r": {
     "delete_cmd_postfix": ") ",
     "delete_cmd_prefix": "rm(",
     "library": "var_list.r",
     "varRefreshCmd": "cat(var_dic_list()) "
    }
   },
   "types_to_exclude": [
    "module",
    "function",
    "builtin_function_or_method",
    "instance",
    "_Feature"
   ],
   "window_display": false
  }
 },
 "nbformat": 4,
 "nbformat_minor": 2
}
