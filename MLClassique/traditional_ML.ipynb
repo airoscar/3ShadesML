{
 "cells": [
  {
   "cell_type": "code",
   "execution_count": 2,
   "metadata": {},
   "outputs": [],
   "source": [
    "import numpy as np\n",
    "import pandas as pd\n",
    "from sklearn import (model_selection, \n",
    "                     linear_model, \n",
    "                     discriminant_analysis, \n",
    "                     neighbors, \n",
    "                     tree, \n",
    "                     naive_bayes, \n",
    "                     metrics,\n",
    "                     svm,\n",
    "                     ensemble,\n",
    "                     preprocessing)\n",
    "import pickle\n",
    "from matplotlib import pyplot\n",
    "import itertools\n",
    "import math\n",
    "import warnings\n",
    "from IPython.display import display\n",
    "warnings.filterwarnings('ignore')"
   ]
  },
  {
   "cell_type": "markdown",
   "metadata": {},
   "source": [
    "## Loading Flattened Image Data"
   ]
  },
  {
   "cell_type": "code",
   "execution_count": 4,
   "metadata": {},
   "outputs": [],
   "source": [
    "inStream = open('flattened_image_RGB_data_metadata_10pct.pickle', 'rb')\n",
    "imgData, metadata = pickle.load(inStream)\n",
    "inStream.close()"
   ]
  },
  {
   "cell_type": "markdown",
   "metadata": {},
   "source": [
    "## Some more image prep"
   ]
  },
  {
   "cell_type": "code",
   "execution_count": 5,
   "metadata": {},
   "outputs": [
    {
     "data": {
      "text/plain": [
       "(8000, 30001)"
      ]
     },
     "execution_count": 5,
     "metadata": {},
     "output_type": "execute_result"
    }
   ],
   "source": [
    "imgData[\"gender\"]=metadata[\"gender\"]\n",
    "imgData.shape"
   ]
  },
  {
   "cell_type": "code",
   "execution_count": 6,
   "metadata": {},
   "outputs": [],
   "source": [
    "total=len(imgData.index)\n",
    "portionMale=len(imgData[\"gender\"][imgData[\"gender\"]==1].index)/total\n",
    "portionFemale=len(imgData[\"gender\"][imgData[\"gender\"]==0].index)/total"
   ]
  },
  {
   "cell_type": "code",
   "execution_count": 7,
   "metadata": {},
   "outputs": [
    {
     "name": "stdout",
     "output_type": "stream",
     "text": [
      "0.5018 0.4983\n"
     ]
    }
   ],
   "source": [
    "print(str(round(portionMale,4)), str(round(portionFemale,4)))"
   ]
  },
  {
   "cell_type": "code",
   "execution_count": 8,
   "metadata": {},
   "outputs": [],
   "source": [
    "my_features_Column_labels=imgData.columns[:-1]\n",
    "my_target_Column_label=\"gender\""
   ]
  },
  {
   "cell_type": "markdown",
   "metadata": {},
   "source": [
    "## Learning functions"
   ]
  },
  {
   "cell_type": "code",
   "execution_count": 9,
   "metadata": {},
   "outputs": [],
   "source": [
    "def normalizeConfusionMatrix(confusionMatrix):\n",
    "    normConfusionMatrix = confusionMatrix.astype('float') / confusionMatrix.sum(axis=1)[:, np.newaxis]\n",
    "    return normConfusionMatrix"
   ]
  },
  {
   "cell_type": "code",
   "execution_count": 10,
   "metadata": {},
   "outputs": [],
   "source": [
    "def train(df, featureColLabels, targetColLabel, model, train_size=0.5, \n",
    "          random_state=2,shuffle=False, return_all=False):\n",
    "    fts = df[featureColLabels]\n",
    "    features = fts.values\n",
    "\n",
    "    tgs = df[targetColLabel]\n",
    "    target = tgs.values \n",
    "\n",
    "    (features_train, features_test, target_train, target_test) = model_selection.train_test_split(\n",
    "    features, target, train_size=train_size, random_state=random_state,shuffle=shuffle)\n",
    "\n",
    "    trainedModel=model.fit(features_train, target_train)\n",
    "    if return_all is True:\n",
    "        return trainedModel, features_train, features_test, target_train, target_test\n",
    "    elif return_all is False:\n",
    "        return trainedModel, features_test, target_test\n",
    "    else:\n",
    "        return None\n",
    "\n",
    "def test(features_test, target_test, trainedModel, normalize_cm=True):\n",
    "    predictions = trainedModel.predict(features_test)\n",
    "    accuracy=metrics.accuracy_score(target_test, predictions)\n",
    "    confusionMatrix=metrics.confusion_matrix(target_test, predictions)\n",
    "    precision=metrics.precision_score(target_test,predictions, average=None)\n",
    "    if normalize_cm==True:\n",
    "        # normalize the confusion matrix.\n",
    "        confusionMatrix=normalizeConfusionMatrix(confusionMatrix)\n",
    "    return (accuracy, precision, confusionMatrix)"
   ]
  },
  {
   "cell_type": "code",
   "execution_count": 11,
   "metadata": {},
   "outputs": [],
   "source": [
    "def trainAndTest(df, featureColLabels, targetColLabel, model, train_size=0.5, \n",
    "                     random_state=2,shuffle=False, normalize_cm=True, return_all=False):\n",
    "        '''\n",
    "        ARGs:\n",
    "            >> df: a pandas DataFrame of the dataset.\n",
    "            >> featureColLabels: a list of strings that represents the colunm name of the features.\n",
    "            >> targetColLabel: a string that represents the colunm name of the target.\n",
    "            >> model: an sklearn model constructor.\n",
    "        OPs:\n",
    "            Trains and tests the dataset using the specified model.\n",
    "        RETURN:\n",
    "            >> If return_all is not a boolean: it returns None.\n",
    "            >> If return_all is False: It returns the trained model (sklearn model), \n",
    "            the predictive accuracy of the test (numerical type),\n",
    "            and the confusion matrix (numpy ndarray).\n",
    "            >> If return_all is True: It returns the trained model (sklearn model), \n",
    "            the features training and test datasets (both numpy ndarrays), \n",
    "            the target training and test datasets (both numpy ndarrays),\n",
    "            the predictive accuracy of the test (numerical type), and the \n",
    "            confusion matrix (numpy ndarray).\n",
    "        '''\n",
    "        trainedModel, features_train, features_test, target_train, target_test=train(df, featureColLabels=featureColLabels,\n",
    "                                                        targetColLabel=targetColLabel,\n",
    "                                                        model=model, train_size=train_size, \n",
    "                                                        random_state=random_state, shuffle=shuffle, return_all=True)\n",
    "    \n",
    "        (accuracy, precision, confusionMatrix)=test(features_test, target_test, trainedModel)\n",
    "        \n",
    "        if return_all is True:\n",
    "            result = (trainedModel, features_train, features_test, target_train, \n",
    "                      target_test, accuracy, precision, confusionMatrix)\n",
    "        elif return_all is False:\n",
    "            result = (trainedModel, accuracy, precision, confusionMatrix)\n",
    "        else:\n",
    "            result = None\n",
    "        return result"
   ]
  },
  {
   "cell_type": "code",
   "execution_count": 12,
   "metadata": {},
   "outputs": [],
   "source": [
    "def plotConfusionMatrix(confusionMatrix, classes, title='Confusion matrix', \n",
    "                        cmap=None, figsize=None, ylabel='True classes', xlabel='Predicted classes',\n",
    "                        save=False, filepath=\"confusion_matrix.png\"):\n",
    "\n",
    "    if cmap is None: cmap=pyplot.cm.Reds\n",
    "    if figsize is None: figsize=[7,5]\n",
    "\n",
    "    if not ((confusionMatrix.sum(axis=1)<=1).all()==True):\n",
    "        # a test dataset of only 1 datapoint will fool the above condition.\n",
    "        confusionMatrix=normalizeConfusionMatrix(confusionMatrix)\n",
    "\n",
    "    confusionMatrix=confusionMatrix*100\n",
    "\n",
    "    fig=pyplot.figure(figsize=figsize)\n",
    "    ax=fig.add_subplot(1,1,1)\n",
    "\n",
    "    axImg=ax.imshow(confusionMatrix, cmap=cmap)\n",
    "    fig.colorbar(axImg, fraction=0.046, pad=0.04)\n",
    "\n",
    "    ax.set_title(title)\n",
    "\n",
    "    tick_positions = np.arange(len(classes))\n",
    "    ax.set_xticks(tick_positions)\n",
    "    ax.set_xticklabels(classes, rotation=45)\n",
    "    ax.set_yticks(tick_positions)\n",
    "    ax.set_yticklabels(classes)\n",
    "\n",
    "    fmt = '.2f'\n",
    "    threshold = (np.nanmax(confusionMatrix)+np.nanmin(confusionMatrix)) / 1.5\n",
    "    r=confusionMatrix.shape[0]\n",
    "    c=confusionMatrix.shape[1]\n",
    "\n",
    "    for i, j in itertools.product(range(r), range(c)):\n",
    "        ax.text(j, i, format(confusionMatrix[i, j], fmt)+\"%\",\n",
    "                 horizontalalignment=\"center\",\n",
    "                 color=\"white\" if (confusionMatrix[i, j] > threshold) else \"black\")\n",
    "\n",
    "    ax.set_ylabel(ylabel)\n",
    "    ax.set_xlabel(xlabel)\n",
    "    \n",
    "    fig.tight_layout()\n",
    "\n",
    "    if save is True: fig.savefig(filepath)\n",
    "\n",
    "    fig.show()\n",
    "\n",
    "    return None"
   ]
  },
  {
   "cell_type": "markdown",
   "metadata": {},
   "source": [
    "## Learning executions"
   ]
  },
  {
   "cell_type": "code",
   "execution_count": 13,
   "metadata": {},
   "outputs": [],
   "source": [
    "lda=discriminant_analysis.LinearDiscriminantAnalysis(solver=\"svd\", shrinkage=None, priors=None, \n",
    "                                                         n_components=None, store_covariance=False, tol=0.0001)"
   ]
  },
  {
   "cell_type": "code",
   "execution_count": 14,
   "metadata": {},
   "outputs": [],
   "source": [
    "suppVM=svm.SVC(C=500, cache_size=500, class_weight=\"balanced\", coef0=0.0,\n",
    "  decision_function_shape='ovr', degree=5, gamma=\"auto\", kernel='rbf',\n",
    "  max_iter=-1, probability=False, random_state=2, shrinking=True,\n",
    "  tol=0.001, verbose=False)"
   ]
  },
  {
   "cell_type": "code",
   "execution_count": 15,
   "metadata": {},
   "outputs": [],
   "source": [
    "logit=linear_model.LogisticRegression(penalty=\"l2\", dual=False, tol=0.0001, \n",
    "                                        C=1.0, fit_intercept=True, intercept_scaling=1, solver=\"saga\", max_iter=100, \n",
    "                                        multi_class=\"ovr\", verbose=0, warm_start=False, n_jobs=None)"
   ]
  },
  {
   "cell_type": "code",
   "execution_count": 16,
   "metadata": {},
   "outputs": [],
   "source": [
    "k=int(math.sqrt(len(imgData.index)))\n",
    "k=k if (not k%2) else k+1\n",
    "\n",
    "knn=neighbors.KNeighborsClassifier(n_neighbors=k, weights='uniform')"
   ]
  },
  {
   "cell_type": "code",
   "execution_count": 17,
   "metadata": {},
   "outputs": [],
   "source": [
    "gnb=naive_bayes.GaussianNB(priors=None, var_smoothing=1e-09)"
   ]
  },
  {
   "cell_type": "code",
   "execution_count": 18,
   "metadata": {},
   "outputs": [],
   "source": [
    "randForest=ensemble.RandomForestClassifier(n_estimators=10, criterion=\"gini\", max_depth=None, min_samples_split=2,\n",
    "                       min_samples_leaf=1, min_weight_fraction_leaf=0.0, max_features=\"auto\", max_leaf_nodes=None,\n",
    "                       min_impurity_decrease=0.0, min_impurity_split=None, bootstrap=True, oob_score=False, \n",
    "                       n_jobs=None, random_state=2, verbose=0, warm_start=False, class_weight=None)"
   ]
  },
  {
   "cell_type": "code",
   "execution_count": 19,
   "metadata": {},
   "outputs": [],
   "source": [
    "# myModels = [lda,suppVM,logit,knn,gnb,randForest]\n",
    "# myModels = [suppVM]\n",
    "myModels = [lda,logit,gnb,randForest]"
   ]
  },
  {
   "cell_type": "code",
   "execution_count": 20,
   "metadata": {},
   "outputs": [],
   "source": [
    "finalData=imgData.sample(frac=0.25, random_state=5)"
   ]
  },
  {
   "cell_type": "code",
   "execution_count": 21,
   "metadata": {
    "scrolled": false
   },
   "outputs": [
    {
     "name": "stdout",
     "output_type": "stream",
     "text": [
      "LinearDiscriminantAnalysis(n_components=None, priors=None, shrinkage=None,\n",
      "              solver='svd', store_covariance=False, tol=0.0001)\n",
      "0.595\n",
      "[0.59459459 0.59550562]\n",
      "LogisticRegression(C=1.0, class_weight=None, dual=False, fit_intercept=True,\n",
      "          intercept_scaling=1, max_iter=100, multi_class='ovr',\n",
      "          n_jobs=None, penalty='l2', random_state=None, solver='saga',\n",
      "          tol=0.0001, verbose=0, warm_start=False)\n",
      "0.675\n",
      "[0.6728972  0.67741935]\n",
      "GaussianNB(priors=None, var_smoothing=1e-09)\n",
      "0.575\n",
      "[0.57657658 0.57303371]\n",
      "RandomForestClassifier(bootstrap=True, class_weight=None, criterion='gini',\n",
      "            max_depth=None, max_features='auto', max_leaf_nodes=None,\n",
      "            min_impurity_decrease=0.0, min_impurity_split=None,\n",
      "            min_samples_leaf=1, min_samples_split=2,\n",
      "            min_weight_fraction_leaf=0.0, n_estimators=10, n_jobs=None,\n",
      "            oob_score=False, random_state=2, verbose=0, warm_start=False)\n",
      "0.62\n",
      "[0.61206897 0.63095238]\n"
     ]
    },
    {
     "data": {
      "image/png": "[encoded data removed]",
      "text/plain": [
       "<Figure size 504x360 with 2 Axes>"
      ]
     },
     "metadata": {
      "needs_background": "light"
     },
     "output_type": "display_data"
    },
    {
     "data": {
      "image/png": "[encoded data removed]",
      "text/plain": [
       "<Figure size 504x360 with 2 Axes>"
      ]
     },
     "metadata": {
      "needs_background": "light"
     },
     "output_type": "display_data"
    },
    {
     "data": {
      "image/png": "[encoded data removed]",
      "text/plain": [
       "<Figure size 504x360 with 2 Axes>"
      ]
     },
     "metadata": {
      "needs_background": "light"
     },
     "output_type": "display_data"
    },
    {
     "data": {
      "image/png": "[encoded data removed]",
      "text/plain": [
       "<Figure size 504x360 with 2 Axes>"
      ]
     },
     "metadata": {
      "needs_background": "light"
     },
     "output_type": "display_data"
    }
   ],
   "source": [
    "tModels=[]\n",
    "for myModel in myModels:\n",
    "    (tModel, acc, p, cm)=trainAndTest(finalData, my_features_Column_labels, my_target_Column_label, model=myModel,\n",
    "                                       train_size=0.9, random_state=2,shuffle=True, return_all=False, normalize_cm=True)\n",
    "    tModels.append(tModel)\n",
    "    print(tModel)\n",
    "    print(acc)\n",
    "    print(p)\n",
    "    plotConfusionMatrix(cm, classes=[\"female\", \"male\"])"
   ]
  },
  {
   "cell_type": "code",
   "execution_count": null,
   "metadata": {},
   "outputs": [],
   "source": []
  }
 ],
 "metadata": {
  "kernelspec": {
   "display_name": "Python 3",
   "language": "python",
   "name": "python3"
  },
  "language_info": {
   "codemirror_mode": {
    "name": "ipython",
    "version": 3
   },
   "file_extension": ".py",
   "mimetype": "text/x-python",
   "name": "python",
   "nbconvert_exporter": "python",
   "pygments_lexer": "ipython3",
   "version": "3.6.8"
  },
  "varInspector": {
   "cols": {
    "lenName": 16,
    "lenType": 16,
    "lenVar": 40
   },
   "kernels_config": {
    "python": {
     "delete_cmd_postfix": "",
     "delete_cmd_prefix": "del ",
     "library": "var_list.py",
     "varRefreshCmd": "print(var_dic_list())"
    },
    "r": {
     "delete_cmd_postfix": ") ",
     "delete_cmd_prefix": "rm(",
     "library": "var_list.r",
     "varRefreshCmd": "cat(var_dic_list()) "
    }
   },
   "types_to_exclude": [
    "module",
    "function",
    "builtin_function_or_method",
    "instance",
    "_Feature"
   ],
   "window_display": false
  }
 },
 "nbformat": 4,
 "nbformat_minor": 2
}
