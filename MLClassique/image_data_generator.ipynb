{
 "cells": [
  {
   "cell_type": "code",
   "execution_count": 2,
   "metadata": {},
   "outputs": [],
   "source": [
    "import cv2\n",
    "import numpy as np\n",
    "import pandas as pd\n",
    "import pickle\n",
    "from tqdm import tqdm_notebook"
   ]
  },
  {
   "cell_type": "code",
   "execution_count": 3,
   "metadata": {},
   "outputs": [],
   "source": [
    "def tensorizeImage(newHeight, newWidth, metadata, filepathCol, greyscale=True):\n",
    "    h=newHeight\n",
    "    w=newWidth\n",
    "    if greyscale:\n",
    "        AllImgsRGBData=np.full((1, (w*h)), 0)\n",
    "    else:\n",
    "        AllImgsRGBData=np.full((1, (w*h*3)), 0)\n",
    "    \n",
    "    for filepath in tqdm_notebook(metadata[filepathCol]):\n",
    "        img = cv2.imread(filepath, cv2.IMREAD_GRAYSCALE)\n",
    "        img=cv2.resize(img, (w,h))\n",
    "#         if greyscale is True:\n",
    "#             img=cv2.cvtColor(img, cv2.COLOR_BGR2GRAY)\n",
    "        flattenedImg=img.flatten()\n",
    "        AllImgsRGBData=np.vstack((AllImgsRGBData, flattenedImg))\n",
    "    \n",
    "    AllImgsRGBData=np.delete(AllImgsRGBData, 0, 0)\n",
    "    imgData=pd.DataFrame(AllImgsRGBData)\n",
    "    imgData=imgData.divide(255)\n",
    "    metadata=metadata.reset_index(drop=True)\n",
    "    return imgData, metadata"
   ]
  },
  {
   "cell_type": "markdown",
   "metadata": {},
   "source": [
    "## Generating Flattened Image Data"
   ]
  },
  {
   "cell_type": "code",
   "execution_count": 4,
   "metadata": {},
   "outputs": [],
   "source": [
    "inStream = open('../dataset/df_all.pickle', 'rb')\n",
    "metadata, _ = pickle.load(inStream)\n",
    "inStream.close()"
   ]
  },
  {
   "cell_type": "code",
   "execution_count": 5,
   "metadata": {},
   "outputs": [
    {
     "data": {
      "text/plain": [
       "(196464, 10)"
      ]
     },
     "execution_count": 5,
     "metadata": {},
     "output_type": "execute_result"
    }
   ],
   "source": [
    "metadata.shape"
   ]
  },
  {
   "cell_type": "code",
   "execution_count": 27,
   "metadata": {},
   "outputs": [],
   "source": [
    "metadata[\"path\"]=\"C:/Users/scjayase/Documents/GitHubRepos/3ShadesML/Dataset/imdb_crop/\"+ metadata[\"path\"].astype(str)"
   ]
  },
  {
   "cell_type": "code",
   "execution_count": 28,
   "metadata": {},
   "outputs": [],
   "source": [
    "# metadata=metadata.sample(frac=1, random_state=5)"
   ]
  },
  {
   "cell_type": "code",
   "execution_count": 29,
   "metadata": {
    "scrolled": false
   },
   "outputs": [
    {
     "data": {
      "application/vnd.jupyter.widget-view+json": {
       "model_id": "a3351d272a274654a3721cccfe741fd1",
       "version_major": 2,
       "version_minor": 0
      },
      "text/plain": [
       "HBox(children=(IntProgress(value=0, max=39293), HTML(value='')))"
      ]
     },
     "metadata": {},
     "output_type": "display_data"
    }
   ],
   "source": [
    "data, metadata= tensorizeImage(newHeight=100, newWidth=100, metadata=metadata, filepathCol=\"path\", greyscale=True)"
   ]
  },
  {
   "cell_type": "code",
   "execution_count": 30,
   "metadata": {},
   "outputs": [],
   "source": [
    "outStream = open('flattened_image_RGB_data_metadata_20pct.pickle', 'wb')\n",
    "pickle.dump([data, metadata], outStream)\n",
    "outStream.close()"
   ]
  },
  {
   "cell_type": "markdown",
   "metadata": {},
   "source": [
    "Confirming"
   ]
  },
  {
   "cell_type": "code",
   "execution_count": null,
   "metadata": {},
   "outputs": [],
   "source": [
    "# img = cv2.imread(metadata[\"path\"][22])\n",
    "# display(img.flatten()[0:20])"
   ]
  },
  {
   "cell_type": "code",
   "execution_count": null,
   "metadata": {},
   "outputs": [],
   "source": [
    "# display(data.iloc[22].head(20))"
   ]
  }
 ],
 "metadata": {
  "kernelspec": {
   "display_name": "Python 3",
   "language": "python",
   "name": "python3"
  },
  "language_info": {
   "codemirror_mode": {
    "name": "ipython",
    "version": 3
   },
   "file_extension": ".py",
   "mimetype": "text/x-python",
   "name": "python",
   "nbconvert_exporter": "python",
   "pygments_lexer": "ipython3",
   "version": "3.6.8"
  }
 },
 "nbformat": 4,
 "nbformat_minor": 2
}
