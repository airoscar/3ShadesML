{
 "cells": [
  {
   "cell_type": "code",
   "execution_count": 1,
   "metadata": {},
   "outputs": [
    {
     "name": "stderr",
     "output_type": "stream",
     "text": [
      "Using TensorFlow backend.\n"
     ]
    }
   ],
   "source": [
    "import numpy as np\n",
    "import matplotlib.pyplot as plt\n",
    "import os\n",
    "import cv2\n",
    "import tensorflow as tf\n",
    "from keras.utils import Sequence\n",
    "from tensorflow.keras.models import Sequential\n",
    "from tensorflow.keras.layers import Dense, Dropout, Activation, Flatten, Conv2D, MaxPooling2D\n",
    "from tensorflow.keras.callbacks import TensorBoard\n",
    "from keras_preprocessing.image import ImageDataGenerator\n",
    "\n",
    "import time\n",
    "import pickle"
   ]
  },
  {
   "cell_type": "markdown",
   "metadata": {},
   "source": [
    "#### If using AMD GPU, switch backend to PlaidML library:"
   ]
  },
  {
   "cell_type": "code",
   "execution_count": 2,
   "metadata": {},
   "outputs": [],
   "source": [
    "import os\n",
    "os.environ['KERAS_BACKEND']='plaidml.keras.backend'\n",
    "\n",
    "# When using plaidml, the libraries are imported from keras instead of tensorflow\n",
    "from keras.models import Sequential\n",
    "from keras.layers import Dense, Dropout, Activation, Flatten, Conv2D, MaxPooling2D"
   ]
  },
  {
   "cell_type": "markdown",
   "metadata": {},
   "source": [
    "#### Define Experiments"
   ]
  },
  {
   "cell_type": "code",
   "execution_count": 3,
   "metadata": {},
   "outputs": [],
   "source": [
    "conv_layers = [5]      # number of conv layers\n",
    "layer_sizes = [32,64,128]  # number of nodes in a layer\n",
    "dense_layers = [3]     # number of dense layers"
   ]
  },
  {
   "cell_type": "markdown",
   "metadata": {},
   "source": [
    "#### Load input data"
   ]
  },
  {
   "cell_type": "code",
   "execution_count": 4,
   "metadata": {},
   "outputs": [],
   "source": [
    "pickle_in = open('../Dataset/df_10pct.pickle', 'rb')\n",
    "df_train, df_test = pickle.load(pickle_in)"
   ]
  },
  {
   "cell_type": "code",
   "execution_count": 5,
   "metadata": {
    "scrolled": true
   },
   "outputs": [],
   "source": [
    "# The Keras ImageDataGenerator uses string type data label\n",
    "df_train['gender'] = df_train.gender.astype(str)\n",
    "df_test['gender'] = df_test.gender.astype(str)"
   ]
  },
  {
   "cell_type": "code",
   "execution_count": 6,
   "metadata": {
    "scrolled": true
   },
   "outputs": [
    {
     "name": "stdout",
     "output_type": "stream",
     "text": [
      "(42965, 10) (2261, 10)\n"
     ]
    }
   ],
   "source": [
    "print(df_train.shape, df_test.shape)"
   ]
  },
  {
   "cell_type": "code",
   "execution_count": 7,
   "metadata": {},
   "outputs": [
    {
     "data": {
      "text/plain": [
       "path                object\n",
       "id                  uint16\n",
       "name                object\n",
       "dob         datetime64[ns]\n",
       "gender              object\n",
       "score1             float64\n",
       "score2             float64\n",
       "pic_date    datetime64[ns]\n",
       "region              object\n",
       "age                float64\n",
       "dtype: object"
      ]
     },
     "execution_count": 7,
     "metadata": {},
     "output_type": "execute_result"
    }
   ],
   "source": [
    "df_train.dtypes"
   ]
  },
  {
   "cell_type": "markdown",
   "metadata": {},
   "source": [
    "We will be using a generator to feed model with images, the X would be the path to these images. y will be the gender label."
   ]
  },
  {
   "cell_type": "code",
   "execution_count": 8,
   "metadata": {},
   "outputs": [],
   "source": [
    "image_reshape_size = 100\n",
    "input_image_root_dir = '../Dataset/imdb_crop/' # Don't forget the ending slash"
   ]
  },
  {
   "cell_type": "code",
   "execution_count": 9,
   "metadata": {},
   "outputs": [],
   "source": [
    "inputShape = (image_reshape_size, image_reshape_size, 1)\n",
    "batch_size = 32"
   ]
  },
  {
   "cell_type": "code",
   "execution_count": 10,
   "metadata": {
    "scrolled": true
   },
   "outputs": [
    {
     "data": {
      "text/html": [
       "<div>\n",
       "<style scoped>\n",
       "    .dataframe tbody tr th:only-of-type {\n",
       "        vertical-align: middle;\n",
       "    }\n",
       "\n",
       "    .dataframe tbody tr th {\n",
       "        vertical-align: top;\n",
       "    }\n",
       "\n",
       "    .dataframe thead th {\n",
       "        text-align: right;\n",
       "    }\n",
       "</style>\n",
       "<table border=\"1\" class=\"dataframe\">\n",
       "  <thead>\n",
       "    <tr style=\"text-align: right;\">\n",
       "      <th></th>\n",
       "      <th>path</th>\n",
       "      <th>id</th>\n",
       "      <th>name</th>\n",
       "      <th>dob</th>\n",
       "      <th>gender</th>\n",
       "      <th>score1</th>\n",
       "      <th>score2</th>\n",
       "      <th>pic_date</th>\n",
       "      <th>region</th>\n",
       "      <th>age</th>\n",
       "    </tr>\n",
       "  </thead>\n",
       "  <tbody>\n",
       "    <tr>\n",
       "      <th>120097</th>\n",
       "      <td>12/nm0001612_rm2398793472_1969-8-19_2012.jpg</td>\n",
       "      <td>13149</td>\n",
       "      <td>Matthew Perry</td>\n",
       "      <td>1969-08-19</td>\n",
       "      <td>1</td>\n",
       "      <td>0.799562</td>\n",
       "      <td>NaN</td>\n",
       "      <td>2012-01-01</td>\n",
       "      <td>[397.6, 52.0, 454.4, 108.8]</td>\n",
       "      <td>42.369111</td>\n",
       "    </tr>\n",
       "    <tr>\n",
       "      <th>110887</th>\n",
       "      <td>35/nm0001435_rm3857046784_1963-7-30_1994.jpg</td>\n",
       "      <td>11966</td>\n",
       "      <td>Lisa Kudrow</td>\n",
       "      <td>1963-07-30</td>\n",
       "      <td>0</td>\n",
       "      <td>0.774393</td>\n",
       "      <td>NaN</td>\n",
       "      <td>1994-01-01</td>\n",
       "      <td>[1132.544, 313.344, 1277.952, 458.752]</td>\n",
       "      <td>30.426361</td>\n",
       "    </tr>\n",
       "    <tr>\n",
       "      <th>59955</th>\n",
       "      <td>59/nm0000459_rm3615721728_1960-8-16_2008.jpg</td>\n",
       "      <td>18968</td>\n",
       "      <td>Timothy Hutton</td>\n",
       "      <td>1960-08-16</td>\n",
       "      <td>1</td>\n",
       "      <td>2.119279</td>\n",
       "      <td>NaN</td>\n",
       "      <td>2008-01-01</td>\n",
       "      <td>[282.03335656952333, 55.67480128185821, 342.96...</td>\n",
       "      <td>47.376743</td>\n",
       "    </tr>\n",
       "  </tbody>\n",
       "</table>\n",
       "</div>"
      ],
      "text/plain": [
       "                                                path     id            name  \\\n",
       "120097  12/nm0001612_rm2398793472_1969-8-19_2012.jpg  13149   Matthew Perry   \n",
       "110887  35/nm0001435_rm3857046784_1963-7-30_1994.jpg  11966     Lisa Kudrow   \n",
       "59955   59/nm0000459_rm3615721728_1960-8-16_2008.jpg  18968  Timothy Hutton   \n",
       "\n",
       "              dob gender    score1  score2   pic_date  \\\n",
       "120097 1969-08-19      1  0.799562     NaN 2012-01-01   \n",
       "110887 1963-07-30      0  0.774393     NaN 1994-01-01   \n",
       "59955  1960-08-16      1  2.119279     NaN 2008-01-01   \n",
       "\n",
       "                                                   region        age  \n",
       "120097                        [397.6, 52.0, 454.4, 108.8]  42.369111  \n",
       "110887             [1132.544, 313.344, 1277.952, 458.752]  30.426361  \n",
       "59955   [282.03335656952333, 55.67480128185821, 342.96...  47.376743  "
      ]
     },
     "execution_count": 10,
     "metadata": {},
     "output_type": "execute_result"
    }
   ],
   "source": [
    "df_train.head(3)"
   ]
  },
  {
   "cell_type": "markdown",
   "metadata": {},
   "source": [
    "#### Set up input image generator using flow_from_dataframe"
   ]
  },
  {
   "cell_type": "code",
   "execution_count": 11,
   "metadata": {},
   "outputs": [
    {
     "name": "stdout",
     "output_type": "stream",
     "text": [
      "Found 38669 validated image filenames belonging to 2 classes.\n",
      "Found 4296 validated image filenames belonging to 2 classes.\n",
      "Found 2261 validated image filenames.\n"
     ]
    }
   ],
   "source": [
    "datagen = ImageDataGenerator(rescale=1./255, validation_split=0.1)\n",
    "\n",
    "train_generator = datagen.flow_from_dataframe(dataframe=df_train,\n",
    "                                            directory=input_image_root_dir,\n",
    "                                            x_col=\"path\", y_col=\"gender\",\n",
    "                                            subset=\"training\",\n",
    "                                            class_mode=\"binary\",\n",
    "                                            color_mode=\"grayscale\",\n",
    "                                            target_size=(image_reshape_size,image_reshape_size),\n",
    "                                            batch_size=32,\n",
    "                                            seed=1,\n",
    "                                            shuffle=True)\n",
    "\n",
    "val_generator = datagen.flow_from_dataframe(dataframe=df_train,\n",
    "                                            directory=input_image_root_dir,\n",
    "                                            x_col=\"path\", y_col=\"gender\",\n",
    "                                            subset=\"validation\",\n",
    "                                            class_mode=\"binary\",\n",
    "                                            color_mode=\"grayscale\",\n",
    "                                            target_size=(image_reshape_size,image_reshape_size),\n",
    "                                            batch_size=32,\n",
    "                                            seed=1,\n",
    "                                            shuffle=True)\n",
    "\n",
    "test_generator = datagen.flow_from_dataframe(dataframe=df_test, \n",
    "                                            directory=input_image_root_dir, \n",
    "                                            x_col=\"path\", y_col=None, \n",
    "                                            class_mode=None, \n",
    "                                            color_mode=\"grayscale\",\n",
    "                                            target_size=(image_reshape_size,image_reshape_size),\n",
    "                                            batch_size=1,\n",
    "                                            shuffle=False)"
   ]
  },
  {
   "cell_type": "markdown",
   "metadata": {},
   "source": [
    "#### Run all training experiments"
   ]
  },
  {
   "cell_type": "code",
   "execution_count": 13,
   "metadata": {
    "scrolled": true
   },
   "outputs": [
    {
     "name": "stdout",
     "output_type": "stream",
     "text": [
      "gender-2-conv-32-node-2-dens-1552975562\n",
      "Epoch 1/10\n",
      "1208/1208 [==============================] - 315s 261ms/step - loss: 0.6236 - acc: 0.6629 - val_loss: 0.6079 - val_acc: 0.6742\n",
      "Epoch 2/10\n",
      "1208/1208 [==============================] - 302s 250ms/step - loss: 0.5747 - acc: 0.7102 - val_loss: 0.5724 - val_acc: 0.7167\n",
      "Epoch 3/10\n",
      "1208/1208 [==============================] - 301s 249ms/step - loss: 0.5501 - acc: 0.7273 - val_loss: 0.5690 - val_acc: 0.7160\n",
      "Epoch 4/10\n",
      "1208/1208 [==============================] - 303s 251ms/step - loss: 0.5230 - acc: 0.7422 - val_loss: 0.5819 - val_acc: 0.7183\n",
      "Epoch 5/10\n",
      "1208/1208 [==============================] - 330s 273ms/step - loss: 0.4879 - acc: 0.7650 - val_loss: 0.6024 - val_acc: 0.6961\n",
      "Epoch 6/10\n",
      "1208/1208 [==============================] - 306s 254ms/step - loss: 0.4400 - acc: 0.7935 - val_loss: 0.6559 - val_acc: 0.6868\n",
      "Epoch 7/10\n",
      "1208/1208 [==============================] - 299s 248ms/step - loss: 0.3831 - acc: 0.8310 - val_loss: 0.7392 - val_acc: 0.6768\n",
      "Epoch 8/10\n",
      "1208/1208 [==============================] - 299s 248ms/step - loss: 0.3248 - acc: 0.8607 - val_loss: 0.8667 - val_acc: 0.6416\n",
      "Epoch 9/10\n",
      "1208/1208 [==============================] - 299s 248ms/step - loss: 0.2749 - acc: 0.8881 - val_loss: 0.8934 - val_acc: 0.6465\n",
      "Epoch 10/10\n",
      "1208/1208 [==============================] - 299s 248ms/step - loss: 0.2313 - acc: 0.9109 - val_loss: 1.0185 - val_acc: 0.6567\n",
      "gender-3-conv-32-node-2-dens-1552978617\n",
      "Epoch 1/10\n",
      "1208/1208 [==============================] - 319s 264ms/step - loss: 0.6255 - acc: 0.6590 - val_loss: 0.5816 - val_acc: 0.7041\n",
      "Epoch 2/10\n",
      "1208/1208 [==============================] - 317s 263ms/step - loss: 0.5723 - acc: 0.7164 - val_loss: 0.5645 - val_acc: 0.7276\n",
      "Epoch 3/10\n",
      "1208/1208 [==============================] - 318s 263ms/step - loss: 0.5491 - acc: 0.7329 - val_loss: 0.5546 - val_acc: 0.7288\n",
      "Epoch 4/10\n",
      "1208/1208 [==============================] - 316s 262ms/step - loss: 0.5339 - acc: 0.7429 - val_loss: 0.5561 - val_acc: 0.7337\n",
      "Epoch 5/10\n",
      "1208/1208 [==============================] - 317s 263ms/step - loss: 0.5183 - acc: 0.7522 - val_loss: 0.5592 - val_acc: 0.7325\n",
      "Epoch 6/10\n",
      "1208/1208 [==============================] - 318s 264ms/step - loss: 0.5013 - acc: 0.7617 - val_loss: 0.5600 - val_acc: 0.7288\n",
      "Epoch 7/10\n",
      "1208/1208 [==============================] - 317s 263ms/step - loss: 0.4784 - acc: 0.7744 - val_loss: 0.5801 - val_acc: 0.7288\n",
      "Epoch 8/10\n",
      "1208/1208 [==============================] - 317s 263ms/step - loss: 0.4519 - acc: 0.7895 - val_loss: 0.5870 - val_acc: 0.7192\n",
      "Epoch 9/10\n",
      "1208/1208 [==============================] - 319s 264ms/step - loss: 0.4236 - acc: 0.8053 - val_loss: 0.6527 - val_acc: 0.7139\n",
      "Epoch 10/10\n",
      "1208/1208 [==============================] - 320s 264ms/step - loss: 0.3926 - acc: 0.8210 - val_loss: 0.6693 - val_acc: 0.7076\n",
      "gender-5-conv-32-node-2-dens-1552981798\n",
      "Epoch 1/10\n",
      "1208/1208 [==============================] - 320s 265ms/step - loss: 0.6546 - acc: 0.6204 - val_loss: 0.6246 - val_acc: 0.6611\n",
      "Epoch 2/10\n",
      "1208/1208 [==============================] - 319s 264ms/step - loss: 0.5997 - acc: 0.6913 - val_loss: 0.5921 - val_acc: 0.7020\n",
      "Epoch 3/10\n",
      "1208/1208 [==============================] - 322s 266ms/step - loss: 0.5657 - acc: 0.7236 - val_loss: 0.5595 - val_acc: 0.7278\n",
      "Epoch 4/10\n",
      "1208/1208 [==============================] - 324s 268ms/step - loss: 0.5515 - acc: 0.7354 - val_loss: 0.5539 - val_acc: 0.7348\n",
      "Epoch 5/10\n",
      "1208/1208 [==============================] - 321s 266ms/step - loss: 0.5421 - acc: 0.7427 - val_loss: 0.5617 - val_acc: 0.7288\n",
      "Epoch 6/10\n",
      "1208/1208 [==============================] - 322s 267ms/step - loss: 0.5343 - acc: 0.7480 - val_loss: 0.5576 - val_acc: 0.7269\n",
      "Epoch 7/10\n",
      "1208/1208 [==============================] - 321s 265ms/step - loss: 0.5274 - acc: 0.7532 - val_loss: 0.5528 - val_acc: 0.7360\n",
      "Epoch 8/10\n",
      "1208/1208 [==============================] - 323s 267ms/step - loss: 0.5188 - acc: 0.7562 - val_loss: 0.5563 - val_acc: 0.7323\n",
      "Epoch 9/10\n",
      "1208/1208 [==============================] - 321s 265ms/step - loss: 0.5114 - acc: 0.7611 - val_loss: 0.5606 - val_acc: 0.7267\n",
      "Epoch 10/10\n",
      "1208/1208 [==============================] - 322s 266ms/step - loss: 0.5026 - acc: 0.7672 - val_loss: 0.5673 - val_acc: 0.7164\n",
      "gender-2-conv-64-node-2-dens-1552985014\n",
      "Epoch 1/10\n",
      "1208/1208 [==============================] - 635s 525ms/step - loss: 0.6195 - acc: 0.6674 - val_loss: 0.5762 - val_acc: 0.7092\n",
      "Epoch 2/10\n",
      "1208/1208 [==============================] - 635s 526ms/step - loss: 0.5658 - acc: 0.7185 - val_loss: 0.5652 - val_acc: 0.7188\n",
      "Epoch 3/10\n",
      "1208/1208 [==============================] - 634s 525ms/step - loss: 0.5309 - acc: 0.7402 - val_loss: 0.5692 - val_acc: 0.7215\n",
      "Epoch 4/10\n",
      "1208/1208 [==============================] - 633s 524ms/step - loss: 0.4821 - acc: 0.7677 - val_loss: 0.6050 - val_acc: 0.7038\n",
      "Epoch 5/10\n",
      "1208/1208 [==============================] - 640s 530ms/step - loss: 0.4074 - acc: 0.8116 - val_loss: 0.6603 - val_acc: 0.6854\n",
      "Epoch 6/10\n",
      "1208/1208 [==============================] - 634s 525ms/step - loss: 0.3134 - acc: 0.8620 - val_loss: 0.8284 - val_acc: 0.6905\n",
      "Epoch 7/10\n",
      "1208/1208 [==============================] - 637s 528ms/step - loss: 0.2351 - acc: 0.9056 - val_loss: 0.9962 - val_acc: 0.6747\n",
      "Epoch 8/10\n",
      "1208/1208 [==============================] - 634s 524ms/step - loss: 0.1758 - acc: 0.9335 - val_loss: 1.0497 - val_acc: 0.6558\n",
      "Epoch 9/10\n",
      "1208/1208 [==============================] - 634s 525ms/step - loss: 0.1412 - acc: 0.9495 - val_loss: 1.2995 - val_acc: 0.6730\n",
      "Epoch 10/10\n",
      "1208/1208 [==============================] - 634s 525ms/step - loss: 0.1216 - acc: 0.9570 - val_loss: 1.3659 - val_acc: 0.6618\n",
      "gender-3-conv-64-node-2-dens-1552991364\n",
      "Epoch 1/10\n",
      "1208/1208 [==============================] - 689s 571ms/step - loss: 0.6309 - acc: 0.6495 - val_loss: 0.5837 - val_acc: 0.7085\n",
      "Epoch 1/10\n",
      "Epoch 2/10\n",
      "1208/1208 [==============================] - 691s 572ms/step - loss: 0.5702 - acc: 0.7175 - val_loss: 0.5680 - val_acc: 0.7211\n",
      "Epoch 3/10\n",
      "1208/1208 [==============================] - 690s 572ms/step - loss: 0.5475 - acc: 0.7356 - val_loss: 0.5595 - val_acc: 0.7290\n",
      "Epoch 4/10\n",
      "1208/1208 [==============================] - 690s 571ms/step - loss: 0.5320 - acc: 0.7476 - val_loss: 0.5633 - val_acc: 0.7269\n",
      "Epoch 5/10\n",
      "1208/1208 [==============================] - 691s 572ms/step - loss: 0.5141 - acc: 0.7584 - val_loss: 0.5613 - val_acc: 0.7351\n",
      "Epoch 6/10\n",
      "1208/1208 [==============================] - 690s 571ms/step - loss: 0.4902 - acc: 0.7712 - val_loss: 0.5797 - val_acc: 0.7199\n",
      "Epoch 7/10\n",
      "1208/1208 [==============================] - 690s 571ms/step - loss: 0.4610 - acc: 0.7885 - val_loss: 0.6079 - val_acc: 0.7099\n",
      "Epoch 8/10\n",
      "1208/1208 [==============================] - 690s 571ms/step - loss: 0.4256 - acc: 0.8056 - val_loss: 0.6266 - val_acc: 0.7108\n",
      "Epoch 9/10\n",
      "1208/1208 [==============================] - 690s 572ms/step - loss: 0.3854 - acc: 0.8291 - val_loss: 0.6964 - val_acc: 0.7050\n",
      "Epoch 10/10\n",
      "1208/1208 [==============================] - 690s 571ms/step - loss: 0.3450 - acc: 0.8503 - val_loss: 0.7237 - val_acc: 0.6938\n",
      "gender-5-conv-64-node-2-dens-1552998269\n",
      "Epoch 1/10\n",
      "1208/1208 [==============================] - 700s 579ms/step - loss: 0.6704 - acc: 0.5964 - val_loss: 0.6466 - val_acc: 0.6299\n",
      "Epoch 2/10\n",
      "1208/1208 [==============================] - 698s 578ms/step - loss: 0.6098 - acc: 0.6786 - val_loss: 0.5834 - val_acc: 0.7115\n",
      "Epoch 3/10\n",
      "1208/1208 [==============================] - 700s 580ms/step - loss: 0.5705 - acc: 0.7204 - val_loss: 0.5815 - val_acc: 0.7031\n",
      "Epoch 4/10\n",
      "1208/1208 [==============================] - 698s 578ms/step - loss: 0.5547 - acc: 0.7322 - val_loss: 0.5635 - val_acc: 0.7264\n",
      "Epoch 5/10\n",
      "1208/1208 [==============================] - 697s 577ms/step - loss: 0.5439 - acc: 0.7416 - val_loss: 0.5621 - val_acc: 0.7274\n",
      "Epoch 6/10\n",
      "1208/1208 [==============================] - 700s 580ms/step - loss: 0.5323 - acc: 0.7483 - val_loss: 0.5556 - val_acc: 0.7318\n",
      "Epoch 7/10\n",
      "1208/1208 [==============================] - 717s 593ms/step - loss: 0.5214 - acc: 0.7563 - val_loss: 0.5532 - val_acc: 0.7353\n",
      "Epoch 8/10\n",
      "1208/1208 [==============================] - 718s 594ms/step - loss: 0.5116 - acc: 0.7610 - val_loss: 0.5653 - val_acc: 0.7290\n",
      "Epoch 9/10\n",
      "1208/1208 [==============================] - 721s 597ms/step - loss: 0.4970 - acc: 0.7705 - val_loss: 0.5753 - val_acc: 0.7278\n",
      "Epoch 10/10\n",
      "1208/1208 [==============================] - 734s 608ms/step - loss: 0.4815 - acc: 0.7772 - val_loss: 0.5844 - val_acc: 0.7176\n",
      "gender-2-conv-128-node-2-dens-1553005355\n",
      "Epoch 1/10\n",
      "1208/1208 [==============================] - 4736s 4s/step - loss: 0.6373 - acc: 0.6418 - val_loss: 0.6080 - val_acc: 0.6758\n",
      "Epoch 2/10\n",
      "1208/1208 [==============================] - 1830s 2s/step - loss: 0.5817 - acc: 0.7045 - val_loss: 0.5866 - val_acc: 0.6985\n",
      "Epoch 3/10\n",
      "1208/1208 [==============================] - 1830s 2s/step - loss: 0.5396 - acc: 0.7319 - val_loss: 0.6127 - val_acc: 0.6901\n",
      "Epoch 4/10\n",
      "1208/1208 [==============================] - 2098s 2s/step - loss: 0.4607 - acc: 0.7827 - val_loss: 0.6574 - val_acc: 0.6840\n",
      "Epoch 5/10\n",
      "1208/1208 [==============================] - 1719s 1s/step - loss: 0.3305 - acc: 0.8557 - val_loss: 0.8233 - val_acc: 0.6686\n",
      "Epoch 6/10\n",
      "1208/1208 [==============================] - 5363s 4s/step - loss: 0.2201 - acc: 0.9140 - val_loss: 0.9473 - val_acc: 0.6688\n",
      "Epoch 7/10\n",
      " 425/1208 [=========>....................] - ETA: 46:21 - loss: 0.1311 - acc: 0.9554"
     ]
    },
    {
     "name": "stderr",
     "output_type": "stream",
     "text": [
      "Process ForkPoolWorker-265:\n",
      "Process ForkPoolWorker-266:\n",
      "Traceback (most recent call last):\n",
      "  File \"/Users/potatorun/anaconda3/lib/python3.6/multiprocessing/process.py\", line 258, in _bootstrap\n",
      "    self.run()\n",
      "  File \"/Users/potatorun/anaconda3/lib/python3.6/multiprocessing/process.py\", line 93, in run\n",
      "    self._target(*self._args, **self._kwargs)\n",
      "  File \"/Users/potatorun/anaconda3/lib/python3.6/multiprocessing/pool.py\", line 108, in worker\n",
      "    task = get()\n",
      "  File \"/Users/potatorun/anaconda3/lib/python3.6/multiprocessing/queues.py\", line 335, in get\n",
      "    res = self._reader.recv_bytes()\n",
      "  File \"/Users/potatorun/anaconda3/lib/python3.6/multiprocessing/connection.py\", line 216, in recv_bytes\n",
      "    buf = self._recv_bytes(maxlength)\n",
      "  File \"/Users/potatorun/anaconda3/lib/python3.6/multiprocessing/connection.py\", line 407, in _recv_bytes\n",
      "    buf = self._recv(4)\n",
      "  File \"/Users/potatorun/anaconda3/lib/python3.6/multiprocessing/connection.py\", line 379, in _recv\n",
      "    chunk = read(handle, remaining)\n",
      "KeyboardInterrupt\n",
      "Traceback (most recent call last):\n",
      "  File \"/Users/potatorun/anaconda3/lib/python3.6/multiprocessing/process.py\", line 258, in _bootstrap\n",
      "    self.run()\n",
      "  File \"/Users/potatorun/anaconda3/lib/python3.6/multiprocessing/process.py\", line 93, in run\n",
      "    self._target(*self._args, **self._kwargs)\n",
      "  File \"/Users/potatorun/anaconda3/lib/python3.6/multiprocessing/pool.py\", line 119, in worker\n",
      "    result = (True, func(*args, **kwds))\n",
      "  File \"/Users/potatorun/anaconda3/lib/python3.6/site-packages/tensorflow/python/keras/utils/data_utils.py\", line 438, in get_index\n",
      "    return _SHARED_SEQUENCES[uid][i]\n",
      "  File \"/Users/potatorun/anaconda3/lib/python3.6/site-packages/keras_preprocessing/image/iterator.py\", line 65, in __getitem__\n",
      "    return self._get_batches_of_transformed_samples(index_array)\n",
      "  File \"/Users/potatorun/anaconda3/lib/python3.6/site-packages/keras_preprocessing/image/iterator.py\", line 226, in _get_batches_of_transformed_samples\n",
      "    interpolation=self.interpolation)\n",
      "  File \"/Users/potatorun/anaconda3/lib/python3.6/site-packages/keras_preprocessing/image/utils.py\", line 109, in load_img\n",
      "    img = pil_image.open(path)\n",
      "  File \"/Users/potatorun/anaconda3/lib/python3.6/site-packages/PIL/Image.py\", line 2634, in open\n",
      "    fp = builtins.open(filename, \"rb\")\n",
      "KeyboardInterrupt\n"
     ]
    },
    {
     "ename": "KeyboardInterrupt",
     "evalue": "",
     "output_type": "error",
     "traceback": [
      "\u001b[0;31m---------------------------------------------------------------------------\u001b[0m",
      "\u001b[0;31mKeyboardInterrupt\u001b[0m                         Traceback (most recent call last)",
      "\u001b[0;32m<ipython-input-13-d61dc75f1154>\u001b[0m in \u001b[0;36m<module>\u001b[0;34m\u001b[0m\n\u001b[1;32m     44\u001b[0m                                 \u001b[0mepochs\u001b[0m\u001b[0;34m=\u001b[0m\u001b[0;36m10\u001b[0m\u001b[0;34m,\u001b[0m\u001b[0;34m\u001b[0m\u001b[0;34m\u001b[0m\u001b[0m\n\u001b[1;32m     45\u001b[0m                                 \u001b[0muse_multiprocessing\u001b[0m\u001b[0;34m=\u001b[0m\u001b[0;32mTrue\u001b[0m\u001b[0;34m,\u001b[0m\u001b[0;34m\u001b[0m\u001b[0;34m\u001b[0m\u001b[0m\n\u001b[0;32m---> 46\u001b[0;31m                                 workers=2)\n\u001b[0m",
      "\u001b[0;32m~/anaconda3/lib/python3.6/site-packages/tensorflow/python/keras/engine/training.py\u001b[0m in \u001b[0;36mfit_generator\u001b[0;34m(self, generator, steps_per_epoch, epochs, verbose, callbacks, validation_data, validation_steps, class_weight, max_queue_size, workers, use_multiprocessing, shuffle, initial_epoch)\u001b[0m\n\u001b[1;32m   2175\u001b[0m         \u001b[0muse_multiprocessing\u001b[0m\u001b[0;34m=\u001b[0m\u001b[0muse_multiprocessing\u001b[0m\u001b[0;34m,\u001b[0m\u001b[0;34m\u001b[0m\u001b[0;34m\u001b[0m\u001b[0m\n\u001b[1;32m   2176\u001b[0m         \u001b[0mshuffle\u001b[0m\u001b[0;34m=\u001b[0m\u001b[0mshuffle\u001b[0m\u001b[0;34m,\u001b[0m\u001b[0;34m\u001b[0m\u001b[0;34m\u001b[0m\u001b[0m\n\u001b[0;32m-> 2177\u001b[0;31m         initial_epoch=initial_epoch)\n\u001b[0m\u001b[1;32m   2178\u001b[0m \u001b[0;34m\u001b[0m\u001b[0m\n\u001b[1;32m   2179\u001b[0m   def evaluate_generator(self,\n",
      "\u001b[0;32m~/anaconda3/lib/python3.6/site-packages/tensorflow/python/keras/engine/training_generator.py\u001b[0m in \u001b[0;36mfit_generator\u001b[0;34m(model, generator, steps_per_epoch, epochs, verbose, callbacks, validation_data, validation_steps, class_weight, max_queue_size, workers, use_multiprocessing, shuffle, initial_epoch)\u001b[0m\n\u001b[1;32m    174\u001b[0m \u001b[0;34m\u001b[0m\u001b[0m\n\u001b[1;32m    175\u001b[0m         outs = model.train_on_batch(\n\u001b[0;32m--> 176\u001b[0;31m             x, y, sample_weight=sample_weight, class_weight=class_weight)\n\u001b[0m\u001b[1;32m    177\u001b[0m \u001b[0;34m\u001b[0m\u001b[0m\n\u001b[1;32m    178\u001b[0m         \u001b[0;32mif\u001b[0m \u001b[0;32mnot\u001b[0m \u001b[0misinstance\u001b[0m\u001b[0;34m(\u001b[0m\u001b[0mouts\u001b[0m\u001b[0;34m,\u001b[0m \u001b[0mlist\u001b[0m\u001b[0;34m)\u001b[0m\u001b[0;34m:\u001b[0m\u001b[0;34m\u001b[0m\u001b[0;34m\u001b[0m\u001b[0m\n",
      "\u001b[0;32m~/anaconda3/lib/python3.6/site-packages/tensorflow/python/keras/engine/training.py\u001b[0m in \u001b[0;36mtrain_on_batch\u001b[0;34m(self, x, y, sample_weight, class_weight)\u001b[0m\n\u001b[1;32m   1938\u001b[0m \u001b[0;34m\u001b[0m\u001b[0m\n\u001b[1;32m   1939\u001b[0m       \u001b[0mself\u001b[0m\u001b[0;34m.\u001b[0m\u001b[0m_make_train_function\u001b[0m\u001b[0;34m(\u001b[0m\u001b[0;34m)\u001b[0m\u001b[0;34m\u001b[0m\u001b[0;34m\u001b[0m\u001b[0m\n\u001b[0;32m-> 1940\u001b[0;31m       \u001b[0moutputs\u001b[0m \u001b[0;34m=\u001b[0m \u001b[0mself\u001b[0m\u001b[0;34m.\u001b[0m\u001b[0mtrain_function\u001b[0m\u001b[0;34m(\u001b[0m\u001b[0mins\u001b[0m\u001b[0;34m)\u001b[0m\u001b[0;34m\u001b[0m\u001b[0;34m\u001b[0m\u001b[0m\n\u001b[0m\u001b[1;32m   1941\u001b[0m \u001b[0;34m\u001b[0m\u001b[0m\n\u001b[1;32m   1942\u001b[0m     \u001b[0;32mif\u001b[0m \u001b[0mlen\u001b[0m\u001b[0;34m(\u001b[0m\u001b[0moutputs\u001b[0m\u001b[0;34m)\u001b[0m \u001b[0;34m==\u001b[0m \u001b[0;36m1\u001b[0m\u001b[0;34m:\u001b[0m\u001b[0;34m\u001b[0m\u001b[0;34m\u001b[0m\u001b[0m\n",
      "\u001b[0;32m~/anaconda3/lib/python3.6/site-packages/tensorflow/python/keras/backend.py\u001b[0m in \u001b[0;36m__call__\u001b[0;34m(self, inputs)\u001b[0m\n\u001b[1;32m   2984\u001b[0m \u001b[0;34m\u001b[0m\u001b[0m\n\u001b[1;32m   2985\u001b[0m     fetched = self._callable_fn(*array_vals,\n\u001b[0;32m-> 2986\u001b[0;31m                                 run_metadata=self.run_metadata)\n\u001b[0m\u001b[1;32m   2987\u001b[0m     \u001b[0mself\u001b[0m\u001b[0;34m.\u001b[0m\u001b[0m_call_fetch_callbacks\u001b[0m\u001b[0;34m(\u001b[0m\u001b[0mfetched\u001b[0m\u001b[0;34m[\u001b[0m\u001b[0;34m-\u001b[0m\u001b[0mlen\u001b[0m\u001b[0;34m(\u001b[0m\u001b[0mself\u001b[0m\u001b[0;34m.\u001b[0m\u001b[0m_fetches\u001b[0m\u001b[0;34m)\u001b[0m\u001b[0;34m:\u001b[0m\u001b[0;34m]\u001b[0m\u001b[0;34m)\u001b[0m\u001b[0;34m\u001b[0m\u001b[0;34m\u001b[0m\u001b[0m\n\u001b[1;32m   2988\u001b[0m     \u001b[0;32mreturn\u001b[0m \u001b[0mfetched\u001b[0m\u001b[0;34m[\u001b[0m\u001b[0;34m:\u001b[0m\u001b[0mlen\u001b[0m\u001b[0;34m(\u001b[0m\u001b[0mself\u001b[0m\u001b[0;34m.\u001b[0m\u001b[0moutputs\u001b[0m\u001b[0;34m)\u001b[0m\u001b[0;34m]\u001b[0m\u001b[0;34m\u001b[0m\u001b[0;34m\u001b[0m\u001b[0m\n",
      "\u001b[0;32m~/anaconda3/lib/python3.6/site-packages/tensorflow/python/client/session.py\u001b[0m in \u001b[0;36m__call__\u001b[0;34m(self, *args, **kwargs)\u001b[0m\n\u001b[1;32m   1437\u001b[0m           ret = tf_session.TF_SessionRunCallable(\n\u001b[1;32m   1438\u001b[0m               \u001b[0mself\u001b[0m\u001b[0;34m.\u001b[0m\u001b[0m_session\u001b[0m\u001b[0;34m.\u001b[0m\u001b[0m_session\u001b[0m\u001b[0;34m,\u001b[0m \u001b[0mself\u001b[0m\u001b[0;34m.\u001b[0m\u001b[0m_handle\u001b[0m\u001b[0;34m,\u001b[0m \u001b[0margs\u001b[0m\u001b[0;34m,\u001b[0m \u001b[0mstatus\u001b[0m\u001b[0;34m,\u001b[0m\u001b[0;34m\u001b[0m\u001b[0;34m\u001b[0m\u001b[0m\n\u001b[0;32m-> 1439\u001b[0;31m               run_metadata_ptr)\n\u001b[0m\u001b[1;32m   1440\u001b[0m         \u001b[0;32mif\u001b[0m \u001b[0mrun_metadata\u001b[0m\u001b[0;34m:\u001b[0m\u001b[0;34m\u001b[0m\u001b[0;34m\u001b[0m\u001b[0m\n\u001b[1;32m   1441\u001b[0m           \u001b[0mproto_data\u001b[0m \u001b[0;34m=\u001b[0m \u001b[0mtf_session\u001b[0m\u001b[0;34m.\u001b[0m\u001b[0mTF_GetBuffer\u001b[0m\u001b[0;34m(\u001b[0m\u001b[0mrun_metadata_ptr\u001b[0m\u001b[0;34m)\u001b[0m\u001b[0;34m\u001b[0m\u001b[0;34m\u001b[0m\u001b[0m\n",
      "\u001b[0;31mKeyboardInterrupt\u001b[0m: "
     ]
    }
   ],
   "source": [
    "for dense_layer in dense_layers:\n",
    "    for layer_size in layer_sizes:\n",
    "        for conv_layer in conv_layers:\n",
    "            \n",
    "            NAME = 'gender-{}-conv-{}-node-{}-dens-{}'.format(conv_layer, layer_size, dense_layer, int(time.time()))  # model name with timestamp\n",
    "            print(NAME) \n",
    "            \n",
    "            tensorboard = TensorBoard(log_dir='logs/{}'.format(NAME))\n",
    "            callbacks = [tensorboard]\n",
    "            \n",
    "            model = Sequential()\n",
    "            \n",
    "            # first layer\n",
    "            model.add(Conv2D(layer_size, (3,3), input_shape=inputShape))\n",
    "            model.add(Activation('relu'))\n",
    "            model.add(MaxPooling2D(pool_size=(2,2)))\n",
    "            \n",
    "            # sets up additional # of conv layers\n",
    "            for _ in range(conv_layer - 1):\n",
    "                model.add(Conv2D(layer_size, (3,3)))\n",
    "                model.add(Activation('relu'))\n",
    "                model.add(MaxPooling2D(pool_size=(2,2)))\n",
    "            \n",
    "            model.add(Flatten())\n",
    "            \n",
    "            # sets up # of dense layers\n",
    "            for _ in range(dense_layer):\n",
    "                model.add(Dense(layer_size))\n",
    "                model.add(Activation('relu'))\n",
    "            \n",
    "            # output layer\n",
    "            model.add(Dense(1))\n",
    "            model.add(Activation('sigmoid'))\n",
    "\n",
    "            model.compile(loss='binary_crossentropy', \n",
    "                          optimizer='adam',\n",
    "                          metrics=['accuracy'])\n",
    "\n",
    "            model.fit_generator(generator=train_generator,\n",
    "                                steps_per_epoch=(train_generator.n // train_generator.batch_size),\n",
    "                                callbacks = callbacks,\n",
    "                                validation_data=val_generator,\n",
    "                                validation_steps=(val_generator.n // val_generator.batch_size),\n",
    "                                epochs=10,\n",
    "                                use_multiprocessing=True,\n",
    "                                workers=2)"
   ]
  },
  {
   "cell_type": "markdown",
   "metadata": {},
   "source": [
    "To view the tensorboard, use command:\n",
    "tensorboard --logdir=logs/"
   ]
  },
  {
   "cell_type": "markdown",
   "metadata": {},
   "source": [
    "#### Evaluation"
   ]
  },
  {
   "cell_type": "code",
   "execution_count": null,
   "metadata": {},
   "outputs": [],
   "source": [
    "test_generator.reset()\n",
    "pred=model.predict_generator(test_generator,\n",
    "                            steps=test_generator.n//test_generator.batch_size,\n",
    "                            verbose=1)\n",
    "pred_class=np.argmax(pred,axis=1) # index of largest value in each row"
   ]
  }
 ],
 "metadata": {
  "kernelspec": {
   "display_name": "Python 3",
   "language": "python",
   "name": "python3"
  },
  "language_info": {
   "codemirror_mode": {
    "name": "ipython",
    "version": 3
   },
   "file_extension": ".py",
   "mimetype": "text/x-python",
   "name": "python",
   "nbconvert_exporter": "python",
   "pygments_lexer": "ipython3",
   "version": "3.6.8"
  },
  "varInspector": {
   "cols": {
    "lenName": 16,
    "lenType": 16,
    "lenVar": 40
   },
   "kernels_config": {
    "python": {
     "delete_cmd_postfix": "",
     "delete_cmd_prefix": "del ",
     "library": "var_list.py",
     "varRefreshCmd": "print(var_dic_list())"
    },
    "r": {
     "delete_cmd_postfix": ") ",
     "delete_cmd_prefix": "rm(",
     "library": "var_list.r",
     "varRefreshCmd": "cat(var_dic_list()) "
    }
   },
   "types_to_exclude": [
    "module",
    "function",
    "builtin_function_or_method",
    "instance",
    "_Feature"
   ],
   "window_display": false
  }
 },
 "nbformat": 4,
 "nbformat_minor": 2
}
